{
  "nbformat": 4,
  "nbformat_minor": 0,
  "metadata": {
    "colab": {
      "provenance": [],
      "authorship_tag": "ABX9TyPh5MiEub+jvYQgPQ5ykxsA",
      "include_colab_link": true
    },
    "kernelspec": {
      "name": "python3",
      "display_name": "Python 3"
    },
    "language_info": {
      "name": "python"
    }
  },
  "cells": [
    {
      "cell_type": "markdown",
      "metadata": {
        "id": "view-in-github",
        "colab_type": "text"
      },
      "source": [
        "<a href=\"https://colab.research.google.com/github/leandroteleco/meraki-auto/blob/main/Meraki_auto_ONE.ipynb\" target=\"_parent\"><img src=\"https://colab.research.google.com/assets/colab-badge.svg\" alt=\"Open In Colab\"/></a>"
      ]
    },
    {
      "cell_type": "markdown",
      "source": [
        "Instalación de librerías meraki y openpyxl"
      ],
      "metadata": {
        "id": "-dlsSk7P4a6y"
      }
    },
    {
      "cell_type": "code",
      "source": [
        "# Install the relevant modules. If you are using a local editor (e.g. VS Code, rather than Colab) you can run these commands, without the preceding %, via a terminal. NB: Run `pip install meraki==` to find the latest version of the Meraki SDK. Uncomment these lines to run them in Google Colab.\n",
        "%pip install meraki\n",
        "%pip install openpyxl"
      ],
      "metadata": {
        "colab": {
          "base_uri": "https://localhost:8080/"
        },
        "id": "XJ96aIGk4nXV",
        "outputId": "e29b41a3-98c9-4c9d-8fda-e2bd2372f2d3"
      },
      "execution_count": null,
      "outputs": [
        {
          "output_type": "stream",
          "name": "stdout",
          "text": [
            "Requirement already satisfied: meraki in /usr/local/lib/python3.10/dist-packages (1.46.0)\n",
            "Requirement already satisfied: requests in /usr/local/lib/python3.10/dist-packages (from meraki) (2.31.0)\n",
            "Requirement already satisfied: aiohttp in /usr/local/lib/python3.10/dist-packages (from meraki) (3.9.5)\n",
            "Requirement already satisfied: aiosignal>=1.1.2 in /usr/local/lib/python3.10/dist-packages (from aiohttp->meraki) (1.3.1)\n",
            "Requirement already satisfied: attrs>=17.3.0 in /usr/local/lib/python3.10/dist-packages (from aiohttp->meraki) (23.2.0)\n",
            "Requirement already satisfied: frozenlist>=1.1.1 in /usr/local/lib/python3.10/dist-packages (from aiohttp->meraki) (1.4.1)\n",
            "Requirement already satisfied: multidict<7.0,>=4.5 in /usr/local/lib/python3.10/dist-packages (from aiohttp->meraki) (6.0.5)\n",
            "Requirement already satisfied: yarl<2.0,>=1.0 in /usr/local/lib/python3.10/dist-packages (from aiohttp->meraki) (1.9.4)\n",
            "Requirement already satisfied: async-timeout<5.0,>=4.0 in /usr/local/lib/python3.10/dist-packages (from aiohttp->meraki) (4.0.3)\n",
            "Requirement already satisfied: charset-normalizer<4,>=2 in /usr/local/lib/python3.10/dist-packages (from requests->meraki) (3.3.2)\n",
            "Requirement already satisfied: idna<4,>=2.5 in /usr/local/lib/python3.10/dist-packages (from requests->meraki) (3.7)\n",
            "Requirement already satisfied: urllib3<3,>=1.21.1 in /usr/local/lib/python3.10/dist-packages (from requests->meraki) (2.0.7)\n",
            "Requirement already satisfied: certifi>=2017.4.17 in /usr/local/lib/python3.10/dist-packages (from requests->meraki) (2024.2.2)\n",
            "Requirement already satisfied: openpyxl in /usr/local/lib/python3.10/dist-packages (3.1.2)\n",
            "Requirement already satisfied: et-xmlfile in /usr/local/lib/python3.10/dist-packages (from openpyxl) (1.1.0)\n"
          ]
        }
      ]
    },
    {
      "cell_type": "code",
      "execution_count": null,
      "metadata": {
        "id": "N9NBrwl0hwxx"
      },
      "outputs": [],
      "source": [
        "# If you are using Google Colab, please ensure you have set up your environment variables as linked above, then delete the two lines of ''' to activate the following code:\n",
        "%pip install colab-env -qU\n",
        "import colab_env\n",
        "\n",
        "\n",
        "# The Meraki SDK\n",
        "import meraki\n",
        "# The built-in OS module, to read environment variables\n",
        "import os\n",
        "# We're also going to import Python's built-in JSON module, but only to make the console output pretty. In production, you wouldn't need any of the printing calls at all, nor this import!\n",
        "import json\n",
        "\n",
        "# The openpyxl module, to manipulate Excel files\n",
        "import openpyxl\n",
        "# The datetime module, to generate timestamps\n",
        "import datetime\n",
        "\n",
        "# Treat your API key like a password. Store it in your environment variables as 'MERAKI_DASHBOARD_API_KEY' and let the SDK call it for you.\n",
        "# Or, call it manually after importing Python's os module:\n",
        "# API_KEY = os.getenv('MERAKI_DASHBOARD_API_KEY')\n",
        "from google.colab import userdata\n",
        "API_KEY = userdata.get('MERAKI_DASHBOARD_API_KEY')\n",
        "\n",
        "\n",
        "# Initialize the Dashboard connection.\n",
        "dashboard = meraki.DashboardAPI(api_key=API_KEY, suppress_logging=True)\n",
        "\n",
        "# We'll also create a few reusable strings for later interactivity.\n",
        "string_constants = dict()\n",
        "string_constants['CONFIRM'] = 'OK, are you sure you want to do this? This script does not have an \"undo\" feature.'\n",
        "string_constants['CANCEL'] = 'OK. Operation canceled.'\n",
        "string_constants['WORKING'] = 'Working...'\n",
        "string_constants['COMPLETE'] = 'Operation complete.'\n",
        "string_constants['NETWORK_SELECTED'] = 'Network selected.'\n",
        "string_constants['NO_VALID_OPTIONS'] = 'There are no valid options. Please try again with an API key that has access to the appropriate resources.'\n",
        "\n",
        "# Some of the parameters we'll work with are optional. This string defines what value will be put into a cell corresponding with a parameter that is not set on that rule.\n",
        "string_constants['NOT_APPLICABLE'] = 'N/A'\n",
        "\n",
        "# This script is interactive; user choices and data will be stored here.\n",
        "user_choices = dict()\n",
        "user_data = dict()"
      ]
    },
    {
      "cell_type": "code",
      "source": [],
      "metadata": {
        "id": "vj4mha5uj-41"
      },
      "execution_count": null,
      "outputs": []
    }
  ]
}